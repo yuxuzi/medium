{
 "cells": [
  {
   "cell_type": "markdown",
   "metadata": {},
   "source": [
    "# Mastering Time Series Data Analysis with Pandas\n",
    "In the vast realm of data analysis, understanding and effectively leveraging time series data is crucial for gaining valuable insights and making informed decisions. Time series data, comprising sequential data points indexed by timestamps, is prevalent in various domains, including finance, economics, weather forecasting, and social media analysis. Fortunately, with the aid of powerful libraries like Pandas, handling and analyzing time series data has become more accessible than ever.\n",
    "pd.to_datetime is a more versatile function that can handle various formats of date and time strings. \n",
    "## Handling Date and Time Data in Pandas\n",
    "Handling date and time data is a fundamental aspect of time series analysis, and Pandas offers robust functionality to effortlessly manipulate and extract insights from temporal data. With Pandas, we can efficiently handle various date and time-related tasks, such as parsing strings into date-time objects, extracting specific components, and filtering data based on time criteria.\n",
    "\n",
    "### Parsing Strings into Date-Time Objects in Pandas\n",
    "Three options are listed here. Option 3 `pd.to_datetime` is more efficient and compact than option 1 `apply strptime`, both can handle various formats of date and time strings. `pd.to_datetime` can also handle Unix timestamps, time strings with timezone information, and more. `pd.astype('datetime64[ns]')` is more straightforward and is typically used when you already have a column with a consistent date/time format."
   ]
  },
  {
   "cell_type": "code",
   "execution_count": 30,
   "metadata": {},
   "outputs": [
    {
     "name": "stdout",
     "output_type": "stream",
     "text": [
      "0   2022-01-01\n",
      "1   2022-02-01\n",
      "2   2022-03-01\n",
      "Name: Date, dtype: datetime64[ns]\n",
      "0   2022-01-01\n",
      "1   2022-02-01\n",
      "2   2022-03-01\n",
      "Name: Date, dtype: datetime64[ns]\n",
      "0   2022-01-01\n",
      "1   2022-02-01\n",
      "2   2022-03-01\n",
      "Name: Date, dtype: datetime64[ns]\n"
     ]
    }
   ],
   "source": [
    "import pandas as pd\n",
    "from datetime import datetime\n",
    "\n",
    "# Creating a DataFrame with date strings\n",
    "data = {'Date': ['2022-01-01', '2022-02-01', '2022-03-01']}\n",
    "df = pd.DataFrame(data)\n",
    "fmt='%Y-%m-%d'\n",
    "# Converting the 'Date' column to datetime format\n",
    "#option 1: .str.strptime\n",
    "dates=df['Date'].apply(lambda x: datetime.strptime(x, fmt))\n",
    "print(dates)\n",
    "\n",
    "#option 2: .astype('datetime64[D]'\n",
    "dates=df['Date'].astype('datetime64[ns]')\n",
    "print(dates)\n",
    "\n",
    "#option 3: pd.to_datetme\n",
    "dates=pd.to_datetime(df['Date'], format=fmt)\n",
    "print(dates)\n"
   ]
  },
  {
   "cell_type": "markdown",
   "metadata": {},
   "source": [
    "### Convert datetime into format string\n",
    "You can use `.dt.strfime` to output the datetime column to the desired format.\n"
   ]
  },
  {
   "cell_type": "code",
   "execution_count": 31,
   "metadata": {},
   "outputs": [
    {
     "data": {
      "text/plain": [
       "0    01/01/2022\n",
       "1    02/01/2022\n",
       "2    03/01/2022\n",
       "Name: Date, dtype: object"
      ]
     },
     "execution_count": 31,
     "metadata": {},
     "output_type": "execute_result"
    }
   ],
   "source": [
    "output_format = '%m/%d/%Y'\n",
    "# Convert datetime series to formatted strings\n",
    "dates.dt.strftime(output_format)"
   ]
  },
  {
   "cell_type": "markdown",
   "metadata": {},
   "source": [
    "### Extracting Components from Date-Time Objects in Pandas"
   ]
  },
  {
   "cell_type": "code",
   "execution_count": 24,
   "metadata": {},
   "outputs": [
    {
     "name": "stdout",
     "output_type": "stream",
     "text": [
      "        Date  year  month  day\n",
      "0 2022-01-01  2022      1    1\n",
      "1 2022-02-01  2022      2    1\n",
      "2 2022-03-01  2022      3    1\n"
     ]
    }
   ],
   "source": [
    "\n",
    "df['Date']=pd.to_datetime(df['Date'], format=fmt)\n",
    "# Extract year, month, day from Date\n",
    "df = df.assign(\n",
    "    year=lambda x: x['Date'].dt.year,\n",
    "    month=lambda x: x['Date'].dt.month,\n",
    "    day=lambda x: x['Date'].dt.day\n",
    ")\n",
    "print(df)"
   ]
  },
  {
   "cell_type": "markdown",
   "metadata": {},
   "source": [
    "### Filtering Data Based on Time Criteria in Pandas\n",
    "The folling examples showcase Pandas' capabilities in handling date and time data, from converting strings into date-time objects to filtering data based on time criteria. You can either use logic index to filter timeserices data, or more elegent `pd.query`."
   ]
  },
  {
   "cell_type": "code",
   "execution_count": 25,
   "metadata": {},
   "outputs": [
    {
     "name": "stdout",
     "output_type": "stream",
     "text": [
      "            Timestamp  Value\n",
      "1 2022-01-01 12:00:00     20\n",
      "            Timestamp  Value\n",
      "1 2022-01-01 12:00:00     20\n"
     ]
    }
   ],
   "source": [
    "# Creating a DataFrame with timestamps and values\n",
    "data = {'Timestamp': ['2022-01-01 10:00:00', '2022-01-01 12:00:00', '2022-01-01 14:00:00'],\n",
    "        'Value': [10, 20, 30]}\n",
    "df = pd.DataFrame(data)\n",
    "\n",
    "# Converting the 'Timestamp' column to datetime format\n",
    "df['Timestamp'] = pd.to_datetime(df['Timestamp'])\n",
    "\n",
    "# Filtering data for a specific time range\n",
    "start_time = pd.to_datetime('2022-01-01 11:00:00')\n",
    "end_time = pd.to_datetime('2022-01-01 13:00:00')\n",
    "#option1\n",
    "filtered_df1 = df[(df['Timestamp'] >= start_time) & (df['Timestamp'] <= end_time)]\n",
    "print(filtered_df1)\n",
    "#option1\n",
    "filtered_df2 = df.query(\"@start_time<=Timestamp<=@end_time\")\n",
    "print(filtered_df2)"
   ]
  },
  {
   "cell_type": "markdown",
   "metadata": {},
   "source": [
    "## Resampling Time Series Data in Pandas\n",
    "Resampling time series data is a crucial technique in time series analysis, involving changing the frequency of data points. It allows aggregation or downsampling data to a lower frequency (e.g., from daily to monthly) or upsampling data to a higher frequency (e.g., from monthly to daily). Pandas provides a comprehensive set of resampling functions that enable effective manipulation of time series data.\n",
    "\n",
    "\n",
    "### Downsampling Time Series Data in Pandas"
   ]
  },
  {
   "cell_type": "code",
   "execution_count": 40,
   "metadata": {},
   "outputs": [
    {
     "name": "stdout",
     "output_type": "stream",
     "text": [
      "            Value\n",
      "Date             \n",
      "2022-01-01      1\n",
      "2022-02-01     32\n",
      "2022-03-01     60\n",
      "            Value\n",
      "Date             \n",
      "2022-01-31   16.0\n",
      "2022-02-28   45.5\n",
      "2022-03-31   60.0\n"
     ]
    }
   ],
   "source": [
    "# Creating a DataFrame with daily data\n",
    "data = {'Date': pd.date_range(start='2022-01-01', periods=60, freq='D'),\n",
    "        'Value': range(1, 61)}\n",
    "df = pd.DataFrame(data)\n",
    "df.set_index('Date', inplace=True)\n",
    "\n",
    "# Downsampling by take the first day of month and label day=1\n",
    "monthly_begin=df.resample('M').first().rename(lambda x:x.replace(day=1))\n",
    "print(monthly_begin)\n",
    "\n",
    "# Downsampling to monthly frequency, taking the average value\n",
    "monthly_data = df.resample('M').mean()\n",
    "\n",
    "# Printing the downsampled DataFrame\n",
    "print(monthly_data)"
   ]
  },
  {
   "cell_type": "code",
   "execution_count": 38,
   "metadata": {},
   "outputs": [
    {
     "data": {
      "text/html": [
       "<div>\n",
       "<style scoped>\n",
       "    .dataframe tbody tr th:only-of-type {\n",
       "        vertical-align: middle;\n",
       "    }\n",
       "\n",
       "    .dataframe tbody tr th {\n",
       "        vertical-align: top;\n",
       "    }\n",
       "\n",
       "    .dataframe thead th {\n",
       "        text-align: right;\n",
       "    }\n",
       "</style>\n",
       "<table border=\"1\" class=\"dataframe\">\n",
       "  <thead>\n",
       "    <tr style=\"text-align: right;\">\n",
       "      <th></th>\n",
       "      <th>Value</th>\n",
       "    </tr>\n",
       "    <tr>\n",
       "      <th>Date</th>\n",
       "      <th></th>\n",
       "    </tr>\n",
       "  </thead>\n",
       "  <tbody>\n",
       "    <tr>\n",
       "      <th>2022-01-01</th>\n",
       "      <td>1</td>\n",
       "    </tr>\n",
       "    <tr>\n",
       "      <th>2022-02-01</th>\n",
       "      <td>32</td>\n",
       "    </tr>\n",
       "    <tr>\n",
       "      <th>2022-03-01</th>\n",
       "      <td>60</td>\n",
       "    </tr>\n",
       "  </tbody>\n",
       "</table>\n",
       "</div>"
      ],
      "text/plain": [
       "            Value\n",
       "Date             \n",
       "2022-01-01      1\n",
       "2022-02-01     32\n",
       "2022-03-01     60"
      ]
     },
     "execution_count": 38,
     "metadata": {},
     "output_type": "execute_result"
    }
   ],
   "source": [
    "monthly_begin.rename(lambda x:x.replace(day=1))"
   ]
  },
  {
   "cell_type": "markdown",
   "metadata": {},
   "source": [
    "### Resampling with Custom Aggregation Functions in Pandas"
   ]
  },
  {
   "cell_type": "code",
   "execution_count": 27,
   "metadata": {},
   "outputs": [
    {
     "name": "stdout",
     "output_type": "stream",
     "text": [
      "                     Value\n",
      "Timestamp                 \n",
      "2022-01-01 00:00:00     30\n",
      "2022-01-01 04:00:00     50\n",
      "2022-01-01 08:00:00     70\n",
      "2022-01-01 12:00:00     90\n",
      "2022-01-01 16:00:00    110\n",
      "2022-01-01 20:00:00    130\n"
     ]
    }
   ],
   "source": [
    "# Creating a DataFrame with hourly data\n",
    "data = {'Timestamp': pd.date_range(start='2022-01-01', periods=24, freq='H'),\n",
    "        'Value': [10, 20, 15, 30, 25, 35, 40, 50, 45, 55, 60, 70, 65, 80, 75, 90, 85, 100, 95, 110, 105, 120, 115, 130]}\n",
    "df = pd.DataFrame(data)\n",
    "df.set_index('Timestamp', inplace=True)\n",
    "\n",
    "# Resampling to 4-hourly frequency, calculating the maximum value\n",
    "resampled_data = df.resample('4H').max()\n",
    "\n",
    "# Printing the resampled DataFrame\n",
    "print(resampled_data)"
   ]
  },
  {
   "cell_type": "markdown",
   "metadata": {},
   "source": [
    "These examples demonstrate Pandas' resampling capabilities, from downsampling to monthly averages to upsampling to hourly frequency.\n",
    "\n",
    "## Window Functions in Pandas\n",
    "Window functions are a powerful tool in time series analysis, allowing us to perform calculations over a defined window or a subset of data. These functions provide insights into trends, patterns, and statistical measures within a specific time frame, enabling a deeper understanding of time series data dynamics. Pandas offers a range of window functions that facilitate such analyses.\n",
    "\n",
    "### Calculating Expanding Sums in Pandas"
   ]
  },
  {
   "cell_type": "code",
   "execution_count": 28,
   "metadata": {},
   "outputs": [
    {
     "name": "stdout",
     "output_type": "stream",
     "text": [
      "            Value  ExpandingSum\n",
      "Date                           \n",
      "2022-01-01     10          10.0\n",
      "2022-01-02     15          25.0\n",
      "2022-01-03     20          45.0\n",
      "2022-01-04     25          70.0\n",
      "2022-01-05     30         100.0\n",
      "2022-01-06     35         135.0\n",
      "2022-01-07     40         175.0\n",
      "2022-01-08     45         220.0\n",
      "2022-01-09     50         270.0\n",
      "2022-01-10     55         325.0\n"
     ]
    }
   ],
   "source": [
    "# Creating a DataFrame with daily data\n",
    "data = {'Date': pd.date_range(start='2022-01-01', periods=10, freq='D'),\n",
    "        'Value': [10, 15, 20, 25, 30, 35, 40, 45, 50, 55]}\n",
    "df = pd.DataFrame(data)\n",
    "df.set_index('Date', inplace=True)\n",
    "\n",
    "# Calculating the expanding sum of the 'Value' column\n",
    "df['ExpandingSum'] = df['Value'].expanding().sum()\n",
    "\n",
    "# Printing the DataFrame with expanding sums\n",
    "print(df)"
   ]
  },
  {
   "cell_type": "markdown",
   "metadata": {},
   "source": [
    "### Applying Custom Functions in Pandas"
   ]
  },
  {
   "cell_type": "code",
   "execution_count": 29,
   "metadata": {},
   "outputs": [
    {
     "name": "stdout",
     "output_type": "stream",
     "text": [
      "                     Value  CustomRollingMax\n",
      "Timestamp                                   \n",
      "2022-01-01 00:00:00     10               NaN\n",
      "2022-01-01 01:00:00     20               NaN\n",
      "2022-01-01 02:00:00     15              20.0\n",
      "2022-01-01 03:00:00     30              30.0\n",
      "2022-01-01 04:00:00     25              30.0\n",
      "2022-01-01 05:00:00     35              35.0\n",
      "2022-01-01 06:00:00     40              40.0\n",
      "2022-01-01 07:00:00     50              50.0\n",
      "2022-01-01 08:00:00     45              50.0\n",
      "2022-01-01 09:00:00     55              55.0\n",
      "2022-01-01 10:00:00     60              60.0\n",
      "2022-01-01 11:00:00     70              70.0\n",
      "2022-01-01 12:00:00     65              70.0\n",
      "2022-01-01 13:00:00     80              80.0\n",
      "2022-01-01 14:00:00     75              80.0\n",
      "2022-01-01 15:00:00     90              90.0\n",
      "2022-01-01 16:00:00     85              90.0\n",
      "2022-01-01 17:00:00    100             100.0\n",
      "2022-01-01 18:00:00     95             100.0\n",
      "2022-01-01 19:00:00    110             110.0\n",
      "2022-01-01 20:00:00    105             110.0\n",
      "2022-01-01 21:00:00    120             120.0\n",
      "2022-01-01 22:00:00    115             120.0\n",
      "2022-01-01 23:00:00    130             130.0\n"
     ]
    }
   ],
   "source": [
    "# Creating a DataFrame with hourly data\n",
    "data = {'Timestamp': pd.date_range(start='2022-01-01', periods=24, freq='H'),\n",
    "        'Value': [10, 20, 15, 30, 25, 35, 40, 50, 45, 55, 60, 70, 65, 80, 75, 90, 85, 100, 95, 110, 105, 120, 115, 130]}\n",
    "df = pd.DataFrame(data)\n",
    "df.set_index('Timestamp', inplace=True)\n",
    "\n",
    "# Defining a custom function for rolling max\n",
    "def custom_rolling_max(series):\n",
    "    return series.rolling(window=3).max()\n",
    "\n",
    "# Applying the custom function to the 'Value' column\n",
    "df['CustomRollingMax'] = df['Value'].transform(custom_rolling_max)\n",
    "\n",
    "# Printing the DataFrame with custom rolling max\n",
    "print(df)"
   ]
  },
  {
   "cell_type": "markdown",
   "metadata": {},
   "source": [
    "These examples showcase Pandas' window functions, from calculating rolling averages to applying custom functions for more advanced analyses.\n",
    "\n",
    "## Conclusion\n",
    "Pandas is a versatile and powerful tool for time series data analysis in Python. From handling date and time data to resampling and performing window functions, Pandas provides a comprehensive set of functionalities that empower data analysts and scientists to extract meaningful insights from temporal data. Whether you are exploring financial trends, analyzing social media activity, or predicting weather patterns, mastering Pandas' time series capabilities is a valuable skill for any data professional."
   ]
  }
 ],
 "metadata": {
  "kernelspec": {
   "display_name": "medium-ciC4y4i_-py3.11",
   "language": "python",
   "name": "python3"
  },
  "language_info": {
   "codemirror_mode": {
    "name": "ipython",
    "version": 3
   },
   "file_extension": ".py",
   "mimetype": "text/x-python",
   "name": "python",
   "nbconvert_exporter": "python",
   "pygments_lexer": "ipython3",
   "version": "3.11.0"
  }
 },
 "nbformat": 4,
 "nbformat_minor": 2
}
